{
  "nbformat": 4,
  "nbformat_minor": 0,
  "metadata": {
    "colab": {
      "provenance": [],
      "authorship_tag": "ABX9TyNHL53zRd4UYfp8wyre4VC3",
      "include_colab_link": true
    },
    "kernelspec": {
      "name": "python3",
      "display_name": "Python 3"
    },
    "language_info": {
      "name": "python"
    }
  },
  "cells": [
    {
      "cell_type": "markdown",
      "metadata": {
        "id": "view-in-github",
        "colab_type": "text"
      },
      "source": [
        "<a href=\"https://colab.research.google.com/github/Sejalkose/BMI-calculator/blob/main/BMI_calculator.ipynb\" target=\"_parent\"><img src=\"https://colab.research.google.com/assets/colab-badge.svg\" alt=\"Open In Colab\"/></a>"
      ]
    },
    {
      "cell_type": "code",
      "execution_count": 4,
      "metadata": {
        "colab": {
          "base_uri": "https://localhost:8080/"
        },
        "id": "4kpPon30LUEV",
        "outputId": "3603a1cc-da34-4f94-d7ee-487f8fc63632"
      },
      "outputs": [
        {
          "output_type": "stream",
          "name": "stdout",
          "text": [
            "Enter your height :1.6\n",
            "Enter your weight :50\n",
            "19\n"
          ]
        }
      ],
      "source": [
        "height = input(\"Enter your height :\")\n",
        "weight = input(\"Enter your weight :\")\n",
        "\n",
        "\n",
        "BMI = int(weight) / float(height) ** 2\n",
        "print(int(BMI))"
      ]
    }
  ]
}