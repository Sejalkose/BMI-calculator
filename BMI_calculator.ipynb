{
  "nbformat": 4,
  "nbformat_minor": 0,
  "metadata": {
    "colab": {
      "provenance": [],
      "authorship_tag": "ABX9TyN2ZsBsjGnGHibk9MNNBtLi",
      "include_colab_link": true
    },
    "kernelspec": {
      "name": "python3",
      "display_name": "Python 3"
    },
    "language_info": {
      "name": "python"
    }
  },
  "cells": [
    {
      "cell_type": "markdown",
      "metadata": {
        "id": "view-in-github",
        "colab_type": "text"
      },
      "source": [
        "<a href=\"https://colab.research.google.com/github/Sejalkose/BMI-calculator/blob/main/BMI_calculator.ipynb\" target=\"_parent\"><img src=\"https://colab.research.google.com/assets/colab-badge.svg\" alt=\"Open In Colab\"/></a>"
      ]
    },
    {
      "cell_type": "code",
      "execution_count": 1,
      "metadata": {
        "colab": {
          "base_uri": "https://localhost:8080/"
        },
        "id": "4kpPon30LUEV",
        "outputId": "2717a867-72b9-4080-dac3-1f889cf264c9"
      },
      "outputs": [
        {
          "output_type": "stream",
          "name": "stdout",
          "text": [
            "Enter your height: 155\n",
            "Enter your weight in cm: 45\n",
            "Your BMI is 0.0018730489073881373, you are underweight.\n"
          ]
        }
      ],
      "source": [
        "height = float(input(\"Enter your height: \"))\n",
        "weight = int(input(\"Enter your weight in cm: \"))\n",
        "\n",
        "BMI = int(weight)/float(height)**2\n",
        "\n",
        "if(BMI <18.5):\n",
        "  print(f\"Your BMI is {BMI}, you are underweight.\")\n",
        "elif(BMI >= 18.5 and BMI < 25):\n",
        "  print(f\"Your BMI is {BMI}, you have normal weight.\")\n",
        "elif(BMI >= 25 and BMI < 30):\n",
        "  print(f\"Your BMI is {BMI}, you are slightly overweight.\")\n",
        "elif(BMI >= 30and BMI < 35):\n",
        "  print(f\"Your BMI is {BMI}, you are obese.\")\n",
        "else:\n",
        "  print(f\"Your BMI is {BMI}, you are normal weight.\")\n"
      ]
    }
  ]
}